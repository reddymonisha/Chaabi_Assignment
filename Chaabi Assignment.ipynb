{
 "cells": [
  {
   "cell_type": "markdown",
   "id": "63d310c5",
   "metadata": {},
   "source": [
    "## Name : Reddy Monisha\n",
    "## Reg.No : 12016166\n",
    "## Email Id : reddymonisha163@gmail.com"
   ]
  },
  {
   "cell_type": "markdown",
   "id": "d8f28ed3",
   "metadata": {},
   "source": [
    "# Question 1\n",
    "### Get your basics right - Implement selection sort algorithm in python. The function accepts a list in the input and returns a sorted list."
   ]
  },
  {
   "cell_type": "code",
   "execution_count": 1,
   "id": "15f6df1b",
   "metadata": {},
   "outputs": [
    {
     "name": "stdout",
     "output_type": "stream",
     "text": [
      "[5, 15, 21, 54, 416, 741, 6135]\n"
     ]
    }
   ],
   "source": [
    "def selection_sort(arr):  \n",
    "    length = len(arr)  \n",
    "      \n",
    "    for i in range(length-1):  \n",
    "        minIndex = i  \n",
    "          \n",
    "        for j in range(i+1, length):  \n",
    "            if arr[j]<arr[minIndex]:  \n",
    "                minIndex = j  \n",
    "                  \n",
    "        arr[i], arr[minIndex] = arr[minIndex], arr[i]  \n",
    "          \n",
    "          \n",
    "    return arr\n",
    "arr=[5,416,54,21,6135,15,741]\n",
    "c=selection_sort(arr)\n",
    "print(c)\n"
   ]
  },
  {
   "cell_type": "markdown",
   "id": "91204a42",
   "metadata": {},
   "source": [
    "# Question 2\n",
    "### Write a program that returns the file type from a file name. The type of the file is determined from the extension. Initially, a list of values of the form \"extension,type\"(e.g. xls,spreadsheet; png,image) will be input."
   ]
  },
  {
   "cell_type": "code",
   "execution_count": 2,
   "id": "5f6041aa",
   "metadata": {},
   "outputs": [
    {
     "name": "stdout",
     "output_type": "stream",
     "text": [
      "{'abc.jpg': 'image', 'xyz.xls': 'spreadsheet', 'text.csv': 'unknown', '123': 'unknown'}\n"
     ]
    }
   ],
   "source": [
    "def file_extension(extension_types_str, list):\n",
    "    extension_types = extension_types_str.split(';')\n",
    "    extension_type_dict = {}\n",
    "\n",
    "    for et in extension_types:\n",
    "        extension, file_type = et.split(',')\n",
    "        extension_type_dict[extension] = file_type\n",
    "\n",
    "    file_type_dict = {}\n",
    "    for file in list:\n",
    "        if '.' in file:\n",
    "            extension = file.split('.')[-1]\n",
    "            file_type_dict[file] = extension_type_dict.get(extension, \"unknown\")\n",
    "        else:\n",
    "            file_type_dict[file] = \"unknown\"\n",
    "\n",
    "    return file_type_dict\n",
    "\n",
    "print(file_extension(\"xls,spreadsheet;xlsx,spreadsheet;jpg,image\", [\"abc.jpg\", \"xyz.xls\", \"text.csv\", \"123\"]))"
   ]
  },
  {
   "cell_type": "markdown",
   "id": "67ca38d8",
   "metadata": {},
   "source": [
    "# Question 3\n",
    "### Given a list of dicts, write a program to sort the list according to a key given in input."
   ]
  },
  {
   "cell_type": "code",
   "execution_count": 3,
   "id": "55499cbf",
   "metadata": {},
   "outputs": [
    {
     "name": "stdout",
     "output_type": "stream",
     "text": [
      "Sorted according to color:\n",
      "[{'fruit': 'blueberry', 'color': 'blue'}, {'fruit': 'orange', 'color': 'orange'}, {'fruit': 'apple', 'color': 'red'}, {'fruit': 'banana', 'color': 'yellow'}]\n",
      "Sorted according to fruits:\n",
      "[{'fruit': 'apple', 'color': 'red'}, {'fruit': 'banana', 'color': 'yellow'}, {'fruit': 'blueberry', 'color': 'blue'}, {'fruit': 'orange', 'color': 'orange'}]\n"
     ]
    }
   ],
   "source": [
    "from operator import itemgetter\n",
    "def sorted_dic(list_dic,key):\n",
    "    return sorted(list_dic, key=itemgetter(key))\n",
    "    \n",
    "list_dic = [\n",
    "    {\"fruit\": \"orange\", \"color\": \"orange\"},\n",
    "    {\"fruit\": \"apple\", \"color\": \"red\"},\n",
    "    {\"fruit\": \"banana\", \"color\": \"yellow\"},\n",
    "    {\"fruit\": \"blueberry\", \"color\": \"blue\"}\n",
    "]\n",
    "print(\"Sorted according to color:\")\n",
    "print(sorted_dic(list_dic, \"color\"))\n",
    "print(\"Sorted according to fruits:\")\n",
    "print(sorted_dic(list_dic, \"fruit\"))\n",
    "\n",
    "    "
   ]
  },
  {
   "cell_type": "markdown",
   "id": "df9c7522",
   "metadata": {},
   "source": [
    "# Question 4\n",
    "### Given a dictionary, switch position of key and values in the dict, i.e., value becomes the key and key becomes value. The function's body shouldn't have more than one statement."
   ]
  },
  {
   "cell_type": "code",
   "execution_count": 20,
   "id": "f4f7806b",
   "metadata": {},
   "outputs": [
    {
     "name": "stdout",
     "output_type": "stream",
     "text": [
      "{'value1': 'key1', 'value2': 'key2', 'value3': 'key3', 'value4': 'key4', 'value5': 'key5'}\n"
     ]
    }
   ],
   "source": [
    "def swap_values_key(dic):\n",
    "    new_dict = dict([(value, key) for key, value in dic.items()])\n",
    "    return new_dict\n",
    "list={\n",
    "\"key1\": \"value1\",\n",
    "\"key2\": \"value2\",\n",
    "\"key3\": \"value3\",\n",
    "\"key4\": \"value4\",\n",
    "\"key5\": \"value5\"\n",
    "}\n",
    "print(swap_values_key(list))"
   ]
  },
  {
   "cell_type": "markdown",
   "id": "8046c7eb",
   "metadata": {},
   "source": [
    "# Question 5\n",
    "### Given 2 lists in input. Write a program to return the elements, which are common to both lists(set intersection) and those which are not common(set symmetric difference) between the lists."
   ]
  },
  {
   "cell_type": "code",
   "execution_count": 4,
   "id": "b975b414",
   "metadata": {},
   "outputs": [
    {
     "name": "stdout",
     "output_type": "stream",
     "text": [
      "Common elements:\n",
      "['One Piece', 'Attack On Titan']\n",
      "Not common elements:\n",
      "['Sword Art Online', 'Code Geass', 'Death Note', 'Full Metal Alchemist', 'One Punch Man', 'The Devil is a Part Timer!', 'Bleach', \"Stein's Gate\", 'Dragon Ball Z']\n"
     ]
    }
   ],
   "source": [
    "def common_or_different(l1, l2):\n",
    "    set1 = set(l1)\n",
    "    set2 = set(l2)\n",
    "\n",
    "    similar = set1.intersection(set2)\n",
    "    different = set1.symmetric_difference(set2)\n",
    "\n",
    "    return list(similar), list(different)\n",
    "\n",
    "# Example usage\n",
    "Mainstream = [\"One Punch Man\", \"Attack On Titan\", \"One Piece\", \"Sword Art Online\", \"Bleach\", \"Dragon Ball Z\", \"One Piece\"]\n",
    "must_watch = [\"Full Metal Alchemist\", \"Code Geass\", \"Death Note\", \"Stein's Gate\", \"The Devil is a Part Timer!\", \"One Piece\", \"Attack On Titan\"]\n",
    "\n",
    "common, not_common = common_or_different(Mainstream, must_watch)\n",
    "print(\"Common elements:\")\n",
    "print(common)\n",
    "print(\"Not common elements:\")\n",
    "print(not_common)\n"
   ]
  },
  {
   "cell_type": "markdown",
   "id": "4ac932f8",
   "metadata": {},
   "source": [
    "# Question 6\n",
    "### Given a list and 2 indices as input, return the sub-list enclosed within these 2 indices. It should contain every second element."
   ]
  },
  {
   "cell_type": "code",
   "execution_count": 5,
   "id": "94c4294a",
   "metadata": {},
   "outputs": [
    {
     "name": "stdout",
     "output_type": "stream",
     "text": [
      "[5, 11, 17, 23]\n"
     ]
    }
   ],
   "source": [
    "def slicing(list,index1,index2):\n",
    "    output=list[index1:index2:2]\n",
    "    return output\n",
    "A=slicing([2,3,5,7,11,13,17,19,23,29,31,37,41], 2, 9)\n",
    "print(A)"
   ]
  },
  {
   "cell_type": "markdown",
   "id": "223b1f82",
   "metadata": {},
   "source": [
    "# Question 7\n",
    "### Calculate the factorial of a number using lambda function."
   ]
  },
  {
   "cell_type": "code",
   "execution_count": 6,
   "id": "7ccdd0df",
   "metadata": {},
   "outputs": [
    {
     "data": {
      "text/plain": [
       "720"
      ]
     },
     "execution_count": 6,
     "metadata": {},
     "output_type": "execute_result"
    }
   ],
   "source": [
    "Factorial= lambda num : 1 if num <= 1 else num*Factorial(num-1)\n",
    "Factorial(6)"
   ]
  },
  {
   "cell_type": "markdown",
   "id": "ec28e049",
   "metadata": {},
   "source": [
    "# Question 8\n",
    "### Looking at the below code, write down the final values of A0, A1, ...An"
   ]
  },
  {
   "cell_type": "code",
   "execution_count": 7,
   "id": "06a3167b",
   "metadata": {},
   "outputs": [
    {
     "name": "stdout",
     "output_type": "stream",
     "text": [
      "A0:  {'a': 1, 'b': 2, 'c': 3, 'd': 4, 'e': 5}\n"
     ]
    }
   ],
   "source": [
    "# A0\n",
    "A0=dict(zip(('a','b','c','d','e'),(1,2,3,4,5)))\n",
    "print('A0: ',A0)"
   ]
  },
  {
   "cell_type": "code",
   "execution_count": 8,
   "id": "da512b08",
   "metadata": {},
   "outputs": [
    {
     "name": "stdout",
     "output_type": "stream",
     "text": [
      "A1:  range(0, 10)\n"
     ]
    }
   ],
   "source": [
    "A1 = range(10)\n",
    "print('A1: ',A1)"
   ]
  },
  {
   "cell_type": "code",
   "execution_count": 9,
   "id": "fcd6f174",
   "metadata": {},
   "outputs": [
    {
     "name": "stdout",
     "output_type": "stream",
     "text": [
      "A2:  []\n"
     ]
    }
   ],
   "source": [
    "#A2\n",
    "A2 = sorted([i for i in A1 if i in A0])\n",
    "print('A2: ',A2)"
   ]
  },
  {
   "cell_type": "code",
   "execution_count": 10,
   "id": "ec1ca3e3",
   "metadata": {},
   "outputs": [
    {
     "name": "stdout",
     "output_type": "stream",
     "text": [
      "A3:  [1, 2, 3, 4, 5]\n"
     ]
    }
   ],
   "source": [
    "#A3\n",
    "A3 = sorted([A0[s] for s in A0])\n",
    "print('A3: ',A3)"
   ]
  },
  {
   "cell_type": "code",
   "execution_count": 11,
   "id": "12561486",
   "metadata": {},
   "outputs": [
    {
     "name": "stdout",
     "output_type": "stream",
     "text": [
      "A4:  [1, 2, 3, 4, 5]\n"
     ]
    }
   ],
   "source": [
    "#A4\n",
    "A4 = [i for i in A1 if i in A3]\n",
    "print('A4: ',A4)"
   ]
  },
  {
   "cell_type": "code",
   "execution_count": 12,
   "id": "7a64af1f",
   "metadata": {},
   "outputs": [
    {
     "name": "stdout",
     "output_type": "stream",
     "text": [
      "A5: {0: 0, 1: 1, 2: 4, 3: 9, 4: 16, 5: 25, 6: 36, 7: 49, 8: 64, 9: 81}\n"
     ]
    }
   ],
   "source": [
    "#A5\n",
    "A5 = {i:i*i for i in A1}\n",
    "print('A5:',A5)"
   ]
  },
  {
   "cell_type": "code",
   "execution_count": 13,
   "id": "7673de93",
   "metadata": {},
   "outputs": [
    {
     "name": "stdout",
     "output_type": "stream",
     "text": [
      "A6:  [[0, 0], [1, 1], [2, 4], [3, 9], [4, 16], [5, 25], [6, 36], [7, 49], [8, 64], [9, 81]]\n"
     ]
    }
   ],
   "source": [
    "#A6\n",
    "A6 = [[i,i*i] for i in A1]\n",
    "print('A6: ',A6)"
   ]
  },
  {
   "cell_type": "code",
   "execution_count": 14,
   "id": "b06771a5",
   "metadata": {},
   "outputs": [
    {
     "name": "stdout",
     "output_type": "stream",
     "text": [
      "A7:  21\n"
     ]
    }
   ],
   "source": [
    "#A7\n",
    "from functools import reduce\n",
    "A7 = reduce(lambda x,y: x+y, [10,23, -45, 33])\n",
    "print('A7: ',A7)"
   ]
  },
  {
   "cell_type": "code",
   "execution_count": 15,
   "id": "f0b63cf8",
   "metadata": {},
   "outputs": [
    {
     "name": "stdout",
     "output_type": "stream",
     "text": [
      "A8:  <map object at 0x0000014FAF8CAA00>\n"
     ]
    }
   ],
   "source": [
    "#A8\n",
    "A8 = map(lambda x: x*2, [1,2,3,4])\n",
    "print('A8: ',A8)"
   ]
  },
  {
   "cell_type": "code",
   "execution_count": 16,
   "id": "63599bed",
   "metadata": {},
   "outputs": [
    {
     "name": "stdout",
     "output_type": "stream",
     "text": [
      "A9:  <filter object at 0x0000014FAF8CAD30>\n"
     ]
    }
   ],
   "source": [
    "#A9\n",
    "A9 = filter(lambda x: len(x) >3, [\"I\" , \"want\", \"to\", \"learn\", \"python\"])\n",
    "print('A9: ',A9)"
   ]
  },
  {
   "cell_type": "markdown",
   "id": "0aae5524",
   "metadata": {},
   "source": [
    "# Question 9\n",
    "### Write a func that takes 3 args: from_date - string representing a date in the form of 'yy-mm-dd' to_date - string representing a date in the form of 'yy-mm-dd difference - int Returns True if from_date and to_date are less than difference days away from each other, else returns False."
   ]
  },
  {
   "cell_type": "code",
   "execution_count": 17,
   "id": "2cb08ae4",
   "metadata": {},
   "outputs": [
    {
     "name": "stdout",
     "output_type": "stream",
     "text": [
      "True\n",
      "False\n"
     ]
    }
   ],
   "source": [
    "from datetime import datetime\n",
    "def difference_between_days(from_date, to_date, difference):\n",
    "\n",
    "\n",
    "\n",
    "  from_date = datetime.strptime(from_date, \"%Y-%m-%d\")\n",
    "  to_date = datetime.strptime(to_date, \"%Y-%m-%d\")\n",
    "\n",
    "  # Calculate the difference between the dates in days.\n",
    "  difference_in_days = (to_date - from_date).days\n",
    "\n",
    "  # Return True if the difference is less than the specified value.\n",
    "  return difference_in_days < difference\n",
    "\n",
    "print(difference_between_days('2023-01-01', '2023-01-10', 15)) \n",
    "print(difference_between_days('2023-01-01', '2023-01-20', 15))  "
   ]
  },
  {
   "cell_type": "markdown",
   "id": "e0627bc6",
   "metadata": {},
   "source": [
    "# Question 10\n",
    "### Of date and days Write a func that takes 2 args: date - string representing a date in the form of 'yy-mm-dd' n - integer"
   ]
  },
  {
   "cell_type": "code",
   "execution_count": 18,
   "id": "861d4490",
   "metadata": {},
   "outputs": [
    {
     "name": "stdout",
     "output_type": "stream",
     "text": [
      "16-11-29\n"
     ]
    }
   ],
   "source": [
    "def get_date_n_days_before(date, n):\n",
    "\n",
    "  import datetime\n",
    "\n",
    "\n",
    "  date_obj = datetime.datetime.strptime(date, '%y-%m-%d')\n",
    "\n",
    "  # Subtract n days from the datetime object.\n",
    "  new_date_obj = date_obj - datetime.timedelta(days=n)\n",
    "\n",
    "  \n",
    "  new_date = new_date_obj.strftime('%y-%m-%d')\n",
    "\n",
    "  # Return the new date string.\n",
    "  return new_date\n",
    "c=get_date_n_days_before('16-12-10', 11)\n",
    "print(c)"
   ]
  },
  {
   "cell_type": "markdown",
   "id": "59d984d5",
   "metadata": {},
   "source": [
    "# Question 11\n",
    "### Find output of following: \n",
    "### f(2)\n",
    "### f(3,[3,2,1])\n",
    "### f(3)"
   ]
  },
  {
   "cell_type": "code",
   "execution_count": 19,
   "id": "84c32640",
   "metadata": {},
   "outputs": [
    {
     "name": "stdout",
     "output_type": "stream",
     "text": [
      "Output for f(2)\n",
      "[0]\n",
      "[0, 1]\n",
      "None\n",
      "Output for f(3)\n",
      "[0, 1, 0]\n",
      "[0, 1, 0, 1]\n",
      "[0, 1, 0, 1, 4]\n",
      "None\n",
      "Output for f(2,[3,2,1])\n",
      "[3, 2, 1, 0]\n",
      "[3, 2, 1, 0, 1]\n",
      "None\n"
     ]
    }
   ],
   "source": [
    "def f(x,l=[]):\n",
    "    for i in range(x):\n",
    "        l.append(i*i)\n",
    "        print(l)\n",
    "print(\"Output for f(2)\")\n",
    "print(f(2))\n",
    "print(\"Output for f(3)\")\n",
    "print(f(3))\n",
    "print(\"Output for f(2,[3,2,1])\")\n",
    "print(f(2,[3,2,1]))"
   ]
  },
  {
   "cell_type": "code",
   "execution_count": null,
   "id": "416dd1b6",
   "metadata": {},
   "outputs": [],
   "source": []
  }
 ],
 "metadata": {
  "kernelspec": {
   "display_name": "Python 3 (ipykernel)",
   "language": "python",
   "name": "python3"
  },
  "language_info": {
   "codemirror_mode": {
    "name": "ipython",
    "version": 3
   },
   "file_extension": ".py",
   "mimetype": "text/x-python",
   "name": "python",
   "nbconvert_exporter": "python",
   "pygments_lexer": "ipython3",
   "version": "3.9.12"
  }
 },
 "nbformat": 4,
 "nbformat_minor": 5
}
